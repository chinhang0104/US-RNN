{
 "cells": [
  {
   "cell_type": "code",
   "execution_count": 1,
   "metadata": {},
   "outputs": [],
   "source": [
    "import numpy as np\n",
    "import pandas as pd\n",
    "import math\n",
    "import sklearn\n",
    "import sklearn.preprocessing\n",
    "import datetime\n",
    "import os\n",
    "import matplotlib.pyplot as plt\n",
    "import tensorflow as tf"
   ]
  },
  {
   "cell_type": "code",
   "execution_count": 2,
   "metadata": {},
   "outputs": [],
   "source": [
    "from tensorflow import keras\n",
    "from tensorflow.keras.models import Sequential\n",
    "from tensorflow.keras.layers import Dense\n",
    "from tensorflow.keras.layers import LSTM\n",
    "from tensorflow.keras.layers import Dropout"
   ]
  },
  {
   "cell_type": "code",
   "execution_count": 3,
   "metadata": {
    "scrolled": true
   },
   "outputs": [
    {
     "name": "stdout",
     "output_type": "stream",
     "text": [
      "<class 'pandas.core.frame.DataFrame'>\n",
      "Index: 851264 entries, 2016-01-05 to 2016-12-30\n",
      "Data columns (total 6 columns):\n",
      " #   Column  Non-Null Count   Dtype  \n",
      "---  ------  --------------   -----  \n",
      " 0   symbol  851264 non-null  object \n",
      " 1   open    851264 non-null  float64\n",
      " 2   close   851264 non-null  float64\n",
      " 3   low     851264 non-null  float64\n",
      " 4   high    851264 non-null  float64\n",
      " 5   volume  851264 non-null  float64\n",
      "dtypes: float64(5), object(1)\n",
      "memory usage: 45.5+ MB\n"
     ]
    },
    {
     "data": {
      "text/html": [
       "<div>\n",
       "<style scoped>\n",
       "    .dataframe tbody tr th:only-of-type {\n",
       "        vertical-align: middle;\n",
       "    }\n",
       "\n",
       "    .dataframe tbody tr th {\n",
       "        vertical-align: top;\n",
       "    }\n",
       "\n",
       "    .dataframe thead th {\n",
       "        text-align: right;\n",
       "    }\n",
       "</style>\n",
       "<table border=\"1\" class=\"dataframe\">\n",
       "  <thead>\n",
       "    <tr style=\"text-align: right;\">\n",
       "      <th></th>\n",
       "      <th>symbol</th>\n",
       "      <th>open</th>\n",
       "      <th>close</th>\n",
       "      <th>low</th>\n",
       "      <th>high</th>\n",
       "      <th>volume</th>\n",
       "    </tr>\n",
       "    <tr>\n",
       "      <th>date</th>\n",
       "      <th></th>\n",
       "      <th></th>\n",
       "      <th></th>\n",
       "      <th></th>\n",
       "      <th></th>\n",
       "      <th></th>\n",
       "    </tr>\n",
       "  </thead>\n",
       "  <tbody>\n",
       "    <tr>\n",
       "      <th>2016-01-05</th>\n",
       "      <td>WLTW</td>\n",
       "      <td>123.430000</td>\n",
       "      <td>125.839996</td>\n",
       "      <td>122.309998</td>\n",
       "      <td>126.250000</td>\n",
       "      <td>2163600.0</td>\n",
       "    </tr>\n",
       "    <tr>\n",
       "      <th>2016-01-06</th>\n",
       "      <td>WLTW</td>\n",
       "      <td>125.239998</td>\n",
       "      <td>119.980003</td>\n",
       "      <td>119.940002</td>\n",
       "      <td>125.540001</td>\n",
       "      <td>2386400.0</td>\n",
       "    </tr>\n",
       "    <tr>\n",
       "      <th>2016-01-07</th>\n",
       "      <td>WLTW</td>\n",
       "      <td>116.379997</td>\n",
       "      <td>114.949997</td>\n",
       "      <td>114.930000</td>\n",
       "      <td>119.739998</td>\n",
       "      <td>2489500.0</td>\n",
       "    </tr>\n",
       "    <tr>\n",
       "      <th>2016-01-08</th>\n",
       "      <td>WLTW</td>\n",
       "      <td>115.480003</td>\n",
       "      <td>116.620003</td>\n",
       "      <td>113.500000</td>\n",
       "      <td>117.440002</td>\n",
       "      <td>2006300.0</td>\n",
       "    </tr>\n",
       "    <tr>\n",
       "      <th>2016-01-11</th>\n",
       "      <td>WLTW</td>\n",
       "      <td>117.010002</td>\n",
       "      <td>114.970001</td>\n",
       "      <td>114.089996</td>\n",
       "      <td>117.330002</td>\n",
       "      <td>1408600.0</td>\n",
       "    </tr>\n",
       "  </tbody>\n",
       "</table>\n",
       "</div>"
      ],
      "text/plain": [
       "           symbol        open       close         low        high     volume\n",
       "date                                                                        \n",
       "2016-01-05   WLTW  123.430000  125.839996  122.309998  126.250000  2163600.0\n",
       "2016-01-06   WLTW  125.239998  119.980003  119.940002  125.540001  2386400.0\n",
       "2016-01-07   WLTW  116.379997  114.949997  114.930000  119.739998  2489500.0\n",
       "2016-01-08   WLTW  115.480003  116.620003  113.500000  117.440002  2006300.0\n",
       "2016-01-11   WLTW  117.010002  114.970001  114.089996  117.330002  1408600.0"
      ]
     },
     "execution_count": 3,
     "metadata": {},
     "output_type": "execute_result"
    }
   ],
   "source": [
    "df = pd.read_csv(\"prices-split-adjusted.csv\", index_col = 0)\n",
    "df.info()\n",
    "df.head()"
   ]
  },
  {
   "cell_type": "code",
   "execution_count": 4,
   "metadata": {
    "scrolled": true
   },
   "outputs": [],
   "source": [
    "#Chose one stock\n",
    "df_stock = df[df.symbol == 'EQIX'].copy()"
   ]
  },
  {
   "cell_type": "code",
   "execution_count": 11,
   "metadata": {},
   "outputs": [],
   "source": [
    "df_stock.drop(['symbol'],1,inplace=True)"
   ]
  },
  {
   "cell_type": "code",
   "execution_count": 13,
   "metadata": {},
   "outputs": [],
   "source": [
    "# Feature Scaling\n",
    "from sklearn.preprocessing import MinMaxScaler\n",
    "sc = MinMaxScaler(feature_range = (0, 1))\n",
    "df_stock_scaled = sc.fit_transform(df_stock)"
   ]
  },
  {
   "cell_type": "code",
   "execution_count": 16,
   "metadata": {},
   "outputs": [],
   "source": [
    "# Seperate data into 70% training set, 20% validation set and 10% test set\n",
    "valid_set_size = int(np.round(20/100*df_stock_scaled.shape[0]));  \n",
    "test_set_size = int(np.round(10/100*df_stock_scaled.shape[0]));\n",
    "train_set_size = df_stock_scaled.shape[0] - (valid_set_size + test_set_size);\n",
    "\n",
    "training_set = df_stock_scaled[:train_set_size,:]\n",
    "\n",
    "valid_set = df_stock_scaled[train_set_size:train_set_size+valid_set_size,:]\n",
    "\n",
    "test_set = df_stock_scaled[train_set_size+valid_set_size:,:]"
   ]
  },
  {
   "cell_type": "code",
   "execution_count": 18,
   "metadata": {},
   "outputs": [
    {
     "data": {
      "text/plain": [
       "array([[0.10925029, 0.12290433, 0.11744033, 0.11091105, 0.01393409],\n",
       "       [0.11889648, 0.11970795, 0.12336141, 0.11081625, 0.01740528],\n",
       "       [0.11688555, 0.12281032, 0.1228548 , 0.11391205, 0.04092789],\n",
       "       ...,\n",
       "       [0.48262427, 0.48052392, 0.48144515, 0.47826636, 0.01043002],\n",
       "       [0.47756551, 0.48309359, 0.48055857, 0.47403337, 0.01267841],\n",
       "       [0.48136741, 0.48945503, 0.48945604, 0.48050919, 0.01234312]])"
      ]
     },
     "execution_count": 18,
     "metadata": {},
     "output_type": "execute_result"
    }
   ],
   "source": [
    "#training_set = df_stock.iloc[:, 1:2].values #Sort out opening\n",
    "training_set"
   ]
  },
  {
   "cell_type": "code",
   "execution_count": 43,
   "metadata": {},
   "outputs": [],
   "source": [
    "# Creating a data structure with 60 timesteps. Our target is opening price.\n",
    "time_step = 60\n",
    "X_train = []\n",
    "y_train = []\n",
    "for i in range(time_step, training_set.shape[0]):\n",
    "    X_train.append(training_set[i-time_step:i, :])\n",
    "    y_train.append(training_set[i, 0])\n",
    "X_train, y_train = np.array(X_train), np.array(y_train)"
   ]
  },
  {
   "cell_type": "code",
   "execution_count": 44,
   "metadata": {},
   "outputs": [
    {
     "data": {
      "text/plain": [
       "(1174, 60, 5)"
      ]
     },
     "execution_count": 44,
     "metadata": {},
     "output_type": "execute_result"
    }
   ],
   "source": [
    "X_train.shape"
   ]
  },
  {
   "cell_type": "code",
   "execution_count": 45,
   "metadata": {},
   "outputs": [
    {
     "data": {
      "text/plain": [
       "(1174,)"
      ]
     },
     "execution_count": 45,
     "metadata": {},
     "output_type": "execute_result"
    }
   ],
   "source": [
    "y_train.shape"
   ]
  },
  {
   "cell_type": "code",
   "execution_count": 46,
   "metadata": {},
   "outputs": [],
   "source": [
    "# Part 2 - Building the RNN\n",
    "# Initialising the RNN\n",
    "regressor = Sequential()\n",
    "\n",
    "# Adding the first LSTM layer and some Dropout regularisation; input_shape = (timestep, input_dim)\n",
    "regressor.add(LSTM(units = 50, return_sequences = True, input_shape = (X_train.shape[1], X_train.shape[2])))\n",
    "regressor.add(Dropout(0.2))"
   ]
  },
  {
   "cell_type": "code",
   "execution_count": 47,
   "metadata": {},
   "outputs": [],
   "source": [
    "# Adding a second LSTM layer and some Dropout regularisation\n",
    "regressor.add(LSTM(units = 50, return_sequences = True))\n",
    "regressor.add(Dropout(0.2))"
   ]
  },
  {
   "cell_type": "code",
   "execution_count": 48,
   "metadata": {},
   "outputs": [],
   "source": [
    "\n",
    "# Adding a third LSTM layer and some Dropout regularisation\n",
    "regressor.add(LSTM(units = 50, return_sequences = True))\n",
    "regressor.add(Dropout(0.2))"
   ]
  },
  {
   "cell_type": "code",
   "execution_count": 49,
   "metadata": {},
   "outputs": [],
   "source": [
    "# Adding a fourth LSTM layer and some Dropout regularisation\n",
    "regressor.add(LSTM(units = 50))\n",
    "regressor.add(Dropout(0.2))\n"
   ]
  },
  {
   "cell_type": "code",
   "execution_count": 50,
   "metadata": {},
   "outputs": [
    {
     "name": "stdout",
     "output_type": "stream",
     "text": [
      "Epoch 1/100\n",
      "37/37 [==============================] - 2s 45ms/step - loss: 0.0090\n",
      "Epoch 2/100\n",
      "37/37 [==============================] - 2s 44ms/step - loss: 0.0020\n",
      "Epoch 3/100\n",
      "37/37 [==============================] - 2s 43ms/step - loss: 0.0017\n",
      "Epoch 4/100\n",
      "37/37 [==============================] - 2s 44ms/step - loss: 0.0015\n",
      "Epoch 5/100\n",
      "37/37 [==============================] - 2s 44ms/step - loss: 0.0014\n",
      "Epoch 6/100\n",
      "37/37 [==============================] - 2s 43ms/step - loss: 0.0012\n",
      "Epoch 7/100\n",
      "37/37 [==============================] - 2s 43ms/step - loss: 0.0014\n",
      "Epoch 8/100\n",
      "37/37 [==============================] - 2s 43ms/step - loss: 0.0011\n",
      "Epoch 9/100\n",
      "37/37 [==============================] - 2s 43ms/step - loss: 0.0011\n",
      "Epoch 10/100\n",
      "37/37 [==============================] - 2s 43ms/step - loss: 0.0011\n",
      "Epoch 11/100\n",
      "37/37 [==============================] - 2s 43ms/step - loss: 0.0011\n",
      "Epoch 12/100\n",
      "37/37 [==============================] - 2s 43ms/step - loss: 0.0012\n",
      "Epoch 13/100\n",
      "37/37 [==============================] - 2s 43ms/step - loss: 0.0011\n",
      "Epoch 14/100\n",
      "37/37 [==============================] - 2s 43ms/step - loss: 0.0012\n",
      "Epoch 15/100\n",
      "37/37 [==============================] - 2s 43ms/step - loss: 0.0011\n",
      "Epoch 16/100\n",
      "37/37 [==============================] - 2s 43ms/step - loss: 9.1032e-04\n",
      "Epoch 17/100\n",
      "37/37 [==============================] - 2s 43ms/step - loss: 0.0011\n",
      "Epoch 18/100\n",
      "37/37 [==============================] - 2s 43ms/step - loss: 8.4742e-04\n",
      "Epoch 19/100\n",
      "37/37 [==============================] - 2s 43ms/step - loss: 8.6609e-04\n",
      "Epoch 20/100\n",
      "37/37 [==============================] - 2s 43ms/step - loss: 0.0012\n",
      "Epoch 21/100\n",
      "37/37 [==============================] - 2s 43ms/step - loss: 7.7895e-04\n",
      "Epoch 22/100\n",
      "37/37 [==============================] - 2s 43ms/step - loss: 8.0451e-04\n",
      "Epoch 23/100\n",
      "37/37 [==============================] - 2s 44ms/step - loss: 7.5760e-04\n",
      "Epoch 24/100\n",
      "37/37 [==============================] - 2s 46ms/step - loss: 7.5909e-04\n",
      "Epoch 25/100\n",
      "37/37 [==============================] - 2s 43ms/step - loss: 8.3754e-04\n",
      "Epoch 26/100\n",
      "37/37 [==============================] - 2s 43ms/step - loss: 7.8302e-04\n",
      "Epoch 27/100\n",
      "37/37 [==============================] - 2s 43ms/step - loss: 8.0985e-04\n",
      "Epoch 28/100\n",
      "37/37 [==============================] - 2s 43ms/step - loss: 8.4064e-04\n",
      "Epoch 29/100\n",
      "37/37 [==============================] - 2s 43ms/step - loss: 7.5816e-04\n",
      "Epoch 30/100\n",
      "37/37 [==============================] - 2s 43ms/step - loss: 6.8996e-04\n",
      "Epoch 31/100\n",
      "37/37 [==============================] - 2s 43ms/step - loss: 6.5394e-04\n",
      "Epoch 32/100\n",
      "37/37 [==============================] - 2s 43ms/step - loss: 6.4616e-04\n",
      "Epoch 33/100\n",
      "37/37 [==============================] - 2s 43ms/step - loss: 6.5330e-04\n",
      "Epoch 34/100\n",
      "37/37 [==============================] - 2s 43ms/step - loss: 6.4891e-04\n",
      "Epoch 35/100\n",
      "37/37 [==============================] - 2s 43ms/step - loss: 6.8950e-04\n",
      "Epoch 36/100\n",
      "37/37 [==============================] - 2s 43ms/step - loss: 6.2479e-04\n",
      "Epoch 37/100\n",
      "37/37 [==============================] - 2s 43ms/step - loss: 6.9802e-04\n",
      "Epoch 38/100\n",
      "37/37 [==============================] - 2s 43ms/step - loss: 7.1297e-04\n",
      "Epoch 39/100\n",
      "37/37 [==============================] - 2s 44ms/step - loss: 6.6850e-04\n",
      "Epoch 40/100\n",
      "37/37 [==============================] - 2s 43ms/step - loss: 6.4012e-04\n",
      "Epoch 41/100\n",
      "37/37 [==============================] - 2s 43ms/step - loss: 6.0176e-04\n",
      "Epoch 42/100\n",
      "37/37 [==============================] - 2s 43ms/step - loss: 5.8554e-04\n",
      "Epoch 43/100\n",
      "37/37 [==============================] - 2s 43ms/step - loss: 6.1419e-04\n",
      "Epoch 44/100\n",
      "37/37 [==============================] - 2s 43ms/step - loss: 6.1332e-04\n",
      "Epoch 45/100\n",
      "37/37 [==============================] - 2s 43ms/step - loss: 5.8055e-04: 0s - loss: 5.8949\n",
      "Epoch 46/100\n",
      "37/37 [==============================] - 2s 43ms/step - loss: 5.7365e-04\n",
      "Epoch 47/100\n",
      "37/37 [==============================] - 2s 43ms/step - loss: 5.6230e-04\n",
      "Epoch 48/100\n",
      "37/37 [==============================] - 2s 44ms/step - loss: 5.7045e-04\n",
      "Epoch 49/100\n",
      "37/37 [==============================] - 2s 44ms/step - loss: 6.7410e-04\n",
      "Epoch 50/100\n",
      "37/37 [==============================] - 2s 43ms/step - loss: 6.0287e-04\n",
      "Epoch 51/100\n",
      "37/37 [==============================] - 2s 46ms/step - loss: 5.5173e-04\n",
      "Epoch 52/100\n",
      "37/37 [==============================] - 2s 51ms/step - loss: 5.9312e-04\n",
      "Epoch 53/100\n",
      "37/37 [==============================] - 2s 51ms/step - loss: 5.3882e-04\n",
      "Epoch 54/100\n",
      "37/37 [==============================] - 2s 52ms/step - loss: 5.3455e-04\n",
      "Epoch 55/100\n",
      "37/37 [==============================] - 2s 45ms/step - loss: 5.6437e-04\n",
      "Epoch 56/100\n",
      "37/37 [==============================] - 2s 44ms/step - loss: 5.2586e-04\n",
      "Epoch 57/100\n",
      "37/37 [==============================] - 2s 45ms/step - loss: 4.8571e-04\n",
      "Epoch 58/100\n",
      "37/37 [==============================] - 2s 44ms/step - loss: 5.5475e-04\n",
      "Epoch 59/100\n",
      "37/37 [==============================] - 2s 45ms/step - loss: 5.8645e-04\n",
      "Epoch 60/100\n",
      "37/37 [==============================] - 2s 45ms/step - loss: 5.5212e-04\n",
      "Epoch 61/100\n",
      "37/37 [==============================] - 2s 45ms/step - loss: 5.0936e-04\n",
      "Epoch 62/100\n",
      "37/37 [==============================] - 2s 45ms/step - loss: 5.5300e-04\n",
      "Epoch 63/100\n",
      "37/37 [==============================] - 2s 46ms/step - loss: 4.8313e-04\n",
      "Epoch 64/100\n",
      "37/37 [==============================] - 2s 46ms/step - loss: 4.8757e-04\n",
      "Epoch 65/100\n",
      "37/37 [==============================] - 2s 46ms/step - loss: 4.8680e-04\n",
      "Epoch 66/100\n",
      "37/37 [==============================] - 2s 46ms/step - loss: 4.5197e-04\n",
      "Epoch 67/100\n",
      "37/37 [==============================] - 2s 46ms/step - loss: 5.0599e-04\n",
      "Epoch 68/100\n",
      "37/37 [==============================] - 2s 46ms/step - loss: 5.4771e-04\n",
      "Epoch 69/100\n",
      "37/37 [==============================] - 2s 46ms/step - loss: 4.7869e-04\n",
      "Epoch 70/100\n",
      "37/37 [==============================] - 2s 46ms/step - loss: 4.6335e-04\n",
      "Epoch 71/100\n",
      "37/37 [==============================] - 2s 46ms/step - loss: 4.6761e-04\n",
      "Epoch 72/100\n",
      "37/37 [==============================] - 2s 46ms/step - loss: 4.3671e-04\n",
      "Epoch 73/100\n",
      "37/37 [==============================] - 2s 46ms/step - loss: 4.4970e-04\n",
      "Epoch 74/100\n",
      "37/37 [==============================] - 2s 46ms/step - loss: 4.2810e-04\n",
      "Epoch 75/100\n",
      "37/37 [==============================] - 2s 46ms/step - loss: 4.8699e-04\n",
      "Epoch 76/100\n",
      "37/37 [==============================] - 2s 47ms/step - loss: 4.4934e-04\n",
      "Epoch 77/100\n",
      "37/37 [==============================] - 2s 47ms/step - loss: 4.2984e-04\n",
      "Epoch 78/100\n",
      "37/37 [==============================] - 2s 47ms/step - loss: 4.8532e-04\n",
      "Epoch 79/100\n",
      "37/37 [==============================] - 2s 46ms/step - loss: 4.3685e-04\n",
      "Epoch 80/100\n",
      "37/37 [==============================] - 2s 47ms/step - loss: 5.0013e-04\n",
      "Epoch 81/100\n",
      "37/37 [==============================] - 2s 47ms/step - loss: 4.5996e-04\n",
      "Epoch 82/100\n",
      "37/37 [==============================] - 2s 46ms/step - loss: 3.9643e-04\n",
      "Epoch 83/100\n",
      "37/37 [==============================] - 2s 47ms/step - loss: 4.1268e-04\n",
      "Epoch 84/100\n",
      "37/37 [==============================] - 2s 47ms/step - loss: 4.0870e-04\n",
      "Epoch 85/100\n",
      "37/37 [==============================] - 2s 47ms/step - loss: 4.0838e-04\n",
      "Epoch 86/100\n",
      "37/37 [==============================] - 2s 47ms/step - loss: 4.2817e-04\n",
      "Epoch 87/100\n",
      "37/37 [==============================] - 2s 47ms/step - loss: 4.4948e-04\n",
      "Epoch 88/100\n",
      "37/37 [==============================] - 2s 47ms/step - loss: 4.1836e-04\n",
      "Epoch 89/100\n",
      "37/37 [==============================] - 2s 47ms/step - loss: 3.7058e-04\n",
      "Epoch 90/100\n",
      "37/37 [==============================] - 2s 49ms/step - loss: 4.2960e-04\n",
      "Epoch 91/100\n",
      "37/37 [==============================] - 2s 49ms/step - loss: 4.0868e-04\n",
      "Epoch 92/100\n",
      "37/37 [==============================] - 2s 48ms/step - loss: 4.0950e-04\n",
      "Epoch 93/100\n",
      "37/37 [==============================] - 2s 48ms/step - loss: 4.0466e-04\n",
      "Epoch 94/100\n",
      "37/37 [==============================] - 2s 48ms/step - loss: 3.9901e-04\n",
      "Epoch 95/100\n",
      "37/37 [==============================] - 2s 47ms/step - loss: 4.1310e-04\n",
      "Epoch 96/100\n",
      "37/37 [==============================] - 2s 47ms/step - loss: 3.9378e-04\n"
     ]
    },
    {
     "name": "stdout",
     "output_type": "stream",
     "text": [
      "Epoch 97/100\n",
      "37/37 [==============================] - 2s 47ms/step - loss: 4.3426e-04\n",
      "Epoch 98/100\n",
      "37/37 [==============================] - 2s 47ms/step - loss: 3.7972e-04\n",
      "Epoch 99/100\n",
      "37/37 [==============================] - 2s 47ms/step - loss: 3.7017e-04\n",
      "Epoch 100/100\n",
      "37/37 [==============================] - 2s 47ms/step - loss: 3.8804e-04\n"
     ]
    },
    {
     "data": {
      "text/plain": [
       "<tensorflow.python.keras.callbacks.History at 0x22b9aa220a0>"
      ]
     },
     "execution_count": 50,
     "metadata": {},
     "output_type": "execute_result"
    }
   ],
   "source": [
    "# Adding the output layer\n",
    "regressor.add(Dense(units = 1))\n",
    "\n",
    "# Compiling the RNN\n",
    "regressor.compile(optimizer = 'adam', loss = 'mean_squared_error')\n",
    "\n",
    "# Fitting the RNN to the Training set\n",
    "regressor.fit(X_train, y_train, epochs = 100, batch_size = 32)\n",
    "\n"
   ]
  },
  {
   "cell_type": "code",
   "execution_count": 51,
   "metadata": {},
   "outputs": [],
   "source": [
    "# Part 3 - Evaluating model performance thought validation set and visualising the results\n",
    "time_step = 60\n",
    "X_valid = []\n",
    "y_valid = []\n",
    "for i in range(time_step, valid_set.shape[0]):\n",
    "    X_valid.append(valid_set[i-time_step:i, :])\n",
    "    y_valid.append(valid_set[i, 0])\n",
    "X_valid, y_valid = np.array(X_valid), np.array(y_valid)"
   ]
  },
  {
   "cell_type": "code",
   "execution_count": 52,
   "metadata": {},
   "outputs": [],
   "source": [
    "# Getting the predicted stock price of 2017\n",
    "predicted_stock_price = regressor.predict(X_valid)\n",
    "#Epredicted_stock_price = sc.inverse_transform(predicted_stock_price)\n"
   ]
  },
  {
   "cell_type": "code",
   "execution_count": 54,
   "metadata": {},
   "outputs": [
    {
     "data": {
      "image/png": "[encoded data removed]",
      "text/plain": [
       "<Figure size 432x288 with 1 Axes>"
      ]
     },
     "metadata": {
      "needs_background": "light"
     },
     "output_type": "display_data"
    }
   ],
   "source": [
    "# Visualising the results\n",
    "plt.plot(y_valid, color = 'red', label = 'Real Stock Price')\n",
    "plt.plot(predicted_stock_price, color = 'blue', label = 'Predicted Stock Price')\n",
    "plt.title('Stock Price Prediction')\n",
    "plt.xlabel('Time')\n",
    "plt.ylabel('TStock Price')\n",
    "plt.legend()\n",
    "plt.show()"
   ]
  }
 ],
 "metadata": {
  "kernelspec": {
   "display_name": "Python 3",
   "language": "python",
   "name": "python3"
  },
  "language_info": {
   "codemirror_mode": {
    "name": "ipython",
    "version": 3
   },
   "file_extension": ".py",
   "mimetype": "text/x-python",
   "name": "python",
   "nbconvert_exporter": "python",
   "pygments_lexer": "ipython3",
   "version": "3.8.3"
  }
 },
 "nbformat": 4,
 "nbformat_minor": 4
}
